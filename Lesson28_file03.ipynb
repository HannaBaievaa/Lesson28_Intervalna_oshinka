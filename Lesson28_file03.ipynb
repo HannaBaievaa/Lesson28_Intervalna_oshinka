{
 "cells": [
  {
   "cell_type": "markdown",
   "id": "9966a4c3",
   "metadata": {},
   "source": [
    "**Рішення завдання №3**"
   ]
  },
  {
   "cell_type": "markdown",
   "id": "22619ede-1906-48dd-acd4-5b1b127534fb",
   "metadata": {},
   "source": [
    "За умовою задачі маємо надійність y=99, точність оцінки d=0.6, середнє квадратичне відхилення Sd=3. Розрахуємо мінімальний об'єм вибірки n, при заданих критеріях за формулою: n=(t**2)*(Sd**2)/d**2, де t- аргумент функції Лапласа, який знаходимо за таблицею: Ф(t)=y/2=0.495, тобто t=2.58.  "
   ]
  },
  {
   "cell_type": "code",
   "execution_count": 4,
   "id": "2f79e65a-49f9-4d60-b2bd-49c9235470ea",
   "metadata": {},
   "outputs": [
    {
     "data": {
      "text/plain": [
       "166.41000000000003"
      ]
     },
     "execution_count": 4,
     "metadata": {},
     "output_type": "execute_result"
    }
   ],
   "source": [
    "Sd=3\n",
    "d=0.6\n",
    "t=2.58\n",
    "n=t**2*Sd**2/d**2\n",
    "n\n"
   ]
  }
 ],
 "metadata": {
  "kernelspec": {
   "display_name": "Python 3 (ipykernel)",
   "language": "python",
   "name": "python3"
  },
  "language_info": {
   "codemirror_mode": {
    "name": "ipython",
    "version": 3
   },
   "file_extension": ".py",
   "mimetype": "text/x-python",
   "name": "python",
   "nbconvert_exporter": "python",
   "pygments_lexer": "ipython3",
   "version": "3.10.11"
  }
 },
 "nbformat": 4,
 "nbformat_minor": 5
}
