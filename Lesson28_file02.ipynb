{
 "cells": [
  {
   "cell_type": "markdown",
   "id": "21d5a0c4",
   "metadata": {},
   "source": [
    "**Рішення задачі №2**"
   ]
  },
  {
   "cell_type": "markdown",
   "id": "d32aa70a-09be-4985-a9bb-ff6693c159c9",
   "metadata": {},
   "source": [
    "За умовою задачі маємо: надійність y=0.95, кількість незалежних повторних випробувань дорівнює n=100, подія відбулась m=40 разів.\n",
    "Знайдемо інтервальну оцінку імовірності p настання події А за наступною формулою: p=w-t*(((w*(1-w))/n)**0.5).\n",
    "Де t- аргумент функціїї Лапласа, знаходимо за таблицею: Ф(t)=y/2=0.475, тобто наше t=1.96. \n",
    "Де w- статична імовірність настання події А, розрахуємо за формулою: w=m/n"
   ]
  },
  {
   "cell_type": "code",
   "execution_count": 5,
   "id": "4269b736-6804-46b0-96ef-9cf1bedd8715",
   "metadata": {},
   "outputs": [
    {
     "data": {
      "text/plain": [
       "0.4"
      ]
     },
     "execution_count": 5,
     "metadata": {},
     "output_type": "execute_result"
    }
   ],
   "source": [
    "m=40 \n",
    "n=100\n",
    "w=m/n\n",
    "w"
   ]
  },
  {
   "cell_type": "code",
   "execution_count": 21,
   "id": "dd7d3c1f-8dfd-4640-95b7-886fecc8950e",
   "metadata": {},
   "outputs": [
    {
     "data": {
      "text/plain": [
       "0.30398000208289944"
      ]
     },
     "execution_count": 21,
     "metadata": {},
     "output_type": "execute_result"
    }
   ],
   "source": [
    "t=1.96\n",
    "p=w-t*(((w*(1-w))/n)**0.5)\n",
    "p"
   ]
  }
 ],
 "metadata": {
  "kernelspec": {
   "display_name": "Python 3 (ipykernel)",
   "language": "python",
   "name": "python3"
  },
  "language_info": {
   "codemirror_mode": {
    "name": "ipython",
    "version": 3
   },
   "file_extension": ".py",
   "mimetype": "text/x-python",
   "name": "python",
   "nbconvert_exporter": "python",
   "pygments_lexer": "ipython3",
   "version": "3.10.11"
  }
 },
 "nbformat": 4,
 "nbformat_minor": 5
}
