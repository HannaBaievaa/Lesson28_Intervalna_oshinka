{
 "cells": [
  {
   "cell_type": "markdown",
   "metadata": {
    "collapsed": false,
    "jupyter": {
     "outputs_hidden": false
    }
   },
   "source": [
    "**Рішення задачі №1**\n",
    "\n",
    "З генеральної сукупності, розподіленої за нормальним законом, отримано вибірку об'ємом $n=20$\n",
    "\n",
    "| $x_i$ | 1 | 2 |  4 | 6 | 7 |\n",
    "|:-----:|---|---|:--:|:-:|:-:|\n",
    "| $n_i$ | 2 | 3 | 10 | 3 | 2 |\n",
    "\n",
    "Знайти з надійністю $\\gamma =0.95$ інтервальну оцінку для середньо квадратичного відхилення $\\sigma$ генеральної сукупності.\n",
    "\n"
   ]
  },
  {
   "cell_type": "markdown",
   "metadata": {
    "collapsed": false,
    "jp-MarkdownHeadingCollapsed": true,
    "jupyter": {
     "outputs_hidden": false
    }
   },
   "source": [
    "Рішення за формулою: $$s(1-q) < \\sigma < s(1+q)$$\n",
    "\n",
    "$q = 0.37$, за умови $n=20$ та $\\gamma = 0.95$"
   ]
  },
  {
   "cell_type": "code",
   "execution_count": 1,
   "metadata": {},
   "outputs": [],
   "source": [
    "import numpy as np\n",
    "import scipy as sp\n",
    "from IPython.display import Markdown as md"
   ]
  },
  {
   "cell_type": "code",
   "execution_count": 3,
   "metadata": {},
   "outputs": [],
   "source": [
    "x = np.array([1, 2, 4, 6, 7])\n",
    "n = np.array([2, 3, 10, 3, 2])\n",
    "N = sum(n)\n",
    "gamma = 0.95\n",
    "delta = (1 - gamma) / 2\n",
    "\n",
    "mean_x = np.dot(x, n) / N\n",
    "\n",
    "var = sum(((x - mean_x) ** 2) * n) / (N-1)\n",
    "sd_x = np.sqrt(var)"
   ]
  },
  {
   "cell_type": "code",
   "execution_count": 4,
   "metadata": {
    "collapsed": false,
    "jupyter": {
     "outputs_hidden": false
    }
   },
   "outputs": [
    {
     "data": {
      "text/markdown": [
       "Відповідь:довірчий інтервал середньоквадратичного відхилення генеральної сукупності: 1.12 < $\\sigma$ < 2.43"
      ],
      "text/plain": [
       "<IPython.core.display.Markdown object>"
      ]
     },
     "execution_count": 4,
     "metadata": {},
     "output_type": "execute_result"
    }
   ],
   "source": [
    "q = 0.37\n",
    "ci_q_low = sd_x * (1 - q)\n",
    "ci_q_hi = sd_x * (1 + q)\n",
    "\n",
    "md(f'Відповідь:довірчий інтервал середньоквадратичного відхилення генеральної сукупності: {round(ci_q_low, 2)} < $\\sigma$ < {round(ci_q_hi, 2)}')"
   ]
  }
 ],
 "metadata": {
  "kernelspec": {
   "display_name": "Python 3 (ipykernel)",
   "language": "python",
   "name": "python3"
  },
  "language_info": {
   "codemirror_mode": {
    "name": "ipython",
    "version": 3
   },
   "file_extension": ".py",
   "mimetype": "text/x-python",
   "name": "python",
   "nbconvert_exporter": "python",
   "pygments_lexer": "ipython3",
   "version": "3.10.11"
  }
 },
 "nbformat": 4,
 "nbformat_minor": 4
}
